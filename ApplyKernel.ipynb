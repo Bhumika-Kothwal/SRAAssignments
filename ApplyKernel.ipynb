{
  "nbformat": 4,
  "nbformat_minor": 0,
  "metadata": {
    "colab": {
      "name": "ApplyKernel.ipynb",
      "provenance": [],
      "authorship_tag": "ABX9TyOTLESRduzdio0h925iTT1k",
      "include_colab_link": true
    },
    "kernelspec": {
      "name": "python3",
      "display_name": "Python 3"
    }
  },
  "cells": [
    {
      "cell_type": "markdown",
      "metadata": {
        "id": "view-in-github",
        "colab_type": "text"
      },
      "source": [
        "<a href=\"https://colab.research.google.com/github/hashmis79/SRAAssignments/blob/master/ApplyKernel.ipynb\" target=\"_parent\"><img src=\"https://colab.research.google.com/assets/colab-badge.svg\" alt=\"Open In Colab\"/></a>"
      ]
    },
    {
      "cell_type": "code",
      "metadata": {
        "id": "ScOr9ftpnGe5",
        "colab_type": "code",
        "colab": {}
      },
      "source": [
        "import numpy as np\n",
        "import matplotlib.pyplot as plt\n",
        "\n",
        "def applyPadding(array):\n",
        "  new = np.zeros((array.shape[0]+4,array.shape[1]+4,array.shape[2]),dtype = array.dtype)\n",
        "  for s in range(array.shape[2]):\n",
        "    for i in range(array.shape[0]):\n",
        "      for j in range(array.shape[1]):\n",
        "        new[i+2,j+2,s] = array[i,j,s]\n",
        "  return new\n",
        "\n",
        "def applyKernel(kernel,matrix):\n",
        "  padded_Matrix = applyPadding(matrix)\n",
        "  filtered = np.zeros((matrix.shape[0],matrix.shape[1],matrix.shape[2]),dtype = matrix.dtype)\n",
        "  for s in range(matrix.shape[2]):\n",
        "    for i in range(matrix.shape[0]):\n",
        "      for j in range(matrix.shape[1]):\n",
        "        sum = 0.0\n",
        "        for y in range(kernel.shape[0]):\n",
        "          for x in range(kernel.shape[1]):\n",
        "            sum = sum + kernel[y,x]*padded_Matrix[i+y,j+x,s]\n",
        "        filtered[i,j,s] = sum\n",
        "  return filtered     \n",
        "\n",
        "image = plt.imread('blur.jpeg')\n",
        "option = ('Choose and option\\n1)Blur1\\n2)Blur2\\n3)Blur3\\n4)Sharpen')\n",
        "print(image.shape)\n",
        "if option == 1:\n",
        "  kernel_box = np.array([[0.04,0.04,0.04,0.04,0.04],[0.04,0.04,0.04,0.04,0.04],[0.04,0.04,0.04,0.04,0.04],[0.04,0.04,0.04,0.04,0.04],[0.04,0.04,0.04,0.04,0.04]])\n",
        "elif option == 2:\n",
        "  kernel_box = np.array([[(1/273),(4/273),(7/273),(4/273),(1/273)],[(4/273),(16/273),(26/273),(16/273),(4/273)],[(7/273),(26/273),(41/273),(26/273),(7/273)],[(4/273),(16/273),(26/273),(16/273),(4/273)],[(1/273),(4/273),(7/273),(4/273),(1/273)]])\n",
        "elif option == 3:\n",
        "  print(unavailable)\n",
        "elif option == 4:\n",
        "  kernel_box = np.array([[-0.00391,-0.01563,-0.02344,-0.01563,-0.00391],[-0.01563,-0.06250,-0.09375,-0.06250,-0.01563],[-0.02344,-0.09375,1.85938,-0.09375,-0.02344],[-0.01563,-0.06250,-0.09375,-0.06250,-0.01563],[-0.00391,-0.01563,-0.02344,-0.01563,-0.00391]])\n",
        "filtered = applyKernel(kernel_box,image)\n",
        "# plt.imshow(image)\n",
        "plt.imshow(filtered)"
      ],
      "execution_count": null,
      "outputs": []
    }
  ]
}