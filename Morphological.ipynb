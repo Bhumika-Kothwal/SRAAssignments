{
  "nbformat": 4,
  "nbformat_minor": 0,
  "metadata": {
    "colab": {
      "name": "Morphological.ipynb",
      "provenance": [],
      "collapsed_sections": [],
      "authorship_tag": "ABX9TyNZ83zwCkZjh8Be50F8uzS2",
      "include_colab_link": true
    },
    "kernelspec": {
      "name": "python3",
      "display_name": "Python 3"
    }
  },
  "cells": [
    {
      "cell_type": "markdown",
      "metadata": {
        "id": "view-in-github",
        "colab_type": "text"
      },
      "source": [
        "<a href=\"https://colab.research.google.com/github/hashmis79/SRAAssignments/blob/master/Morphological.ipynb\" target=\"_parent\"><img src=\"https://colab.research.google.com/assets/colab-badge.svg\" alt=\"Open In Colab\"/></a>"
      ]
    },
    {
      "cell_type": "code",
      "metadata": {
        "id": "GnqL_9qO7iiK",
        "colab_type": "code",
        "colab": {
          "base_uri": "https://localhost:8080/",
          "height": 573
        },
        "outputId": "90d80900-196b-4842-faa1-3c93a76cdda8"
      },
      "source": [
        "import numpy as np\n",
        "import matplotlib.pyplot as plt\n",
        "\n",
        "def applyPadding(array):\n",
        "  new = np.zeros((array.shape[0]+4,array.shape[1]+4,array.shape[2]),dtype = array.dtype)\n",
        "  for s in range(array.shape[2]):\n",
        "    for i in range(array.shape[0]):\n",
        "      for j in range(array.shape[1]):\n",
        "        new[i+2,j+2,s] = array[i,j,s]\n",
        "\n",
        "  return new\n",
        "\n",
        "\n",
        "def transformed(matrix,option):\n",
        "  kernel = np.zeros((5,5,1),dtype = matrix.dtype)\n",
        "  filtered = np.zeros((matrix.shape[0],matrix.shape[1],matrix.shape[2]),dtype = matrix.dtype)\n",
        "  padded = applyPadding(matrix)\n",
        "  for s in range(4):\n",
        "    for i in range(matrix.shape[0]):\n",
        "      for j in range(matrix.shape[1]):\n",
        "        for x in range(5):\n",
        "          for y in range(5):\n",
        "            kernel[y,x] = padded[i+y,j+x,s]\n",
        "        if np.any(kernel) and option == 1:\n",
        "          filtered[i,j,s] = 1\n",
        "        elif np.all(kernel) and option == 2:\n",
        "          # print(kernel[3,3])\n",
        "          filtered[i,j,s] = 1\n",
        "        else:\n",
        "          filtered[i,j,s] = 0\n",
        "  return filtered\n",
        "              \n",
        "image = plt.imread('morphological.png')\n",
        "option = int(input('Enter your choice\\n1)Dilation\\n2)Erosion'))\n",
        "# plt.imshow(image)\n",
        "# plt.show()\n",
        "filtered2 = transformed(image,2)\n",
        "filtered1 = transformed(image,1)\n",
        "# print(filtered1)\n",
        "plt.imshow(filtered2)\n",
        "plt.show()\n",
        "plt.imshow(filtered1)\n",
        "plt.show()"
      ],
      "execution_count": null,
      "outputs": [
        {
          "output_type": "stream",
          "text": [
            "Enter your choice\n",
            "1)Dilation\n",
            "2)Erosion1\n"
          ],
          "name": "stdout"
        },
        {
          "output_type": "display_data",
          "data": {
            "image/png": "[encoded data removed]",
            "text/plain": [
              "<Figure size 432x288 with 1 Axes>"
            ]
          },
          "metadata": {
            "tags": [],
            "needs_background": "light"
          }
        },
        {
          "output_type": "display_data",
          "data": {
            "image/png": "[encoded data removed]",
            "text/plain": [
              "<Figure size 432x288 with 1 Axes>"
            ]
          },
          "metadata": {
            "tags": [],
            "needs_background": "light"
          }
        }
      ]
    },
    {
      "cell_type": "code",
      "metadata": {
        "id": "PhmuGP5WeAUu",
        "colab_type": "code",
        "colab": {
          "base_uri": "https://localhost:8080/",
          "height": 35
        },
        "outputId": "c2900fdc-7a9d-4ef2-f307-7b735600169e"
      },
      "source": [
        "import numpy as np\n",
        "\n",
        "array = [[1,1],[1,1]]\n",
        "print(np.all(array))"
      ],
      "execution_count": null,
      "outputs": [
        {
          "output_type": "stream",
          "text": [
            "True\n"
          ],
          "name": "stdout"
        }
      ]
    },
    {
      "cell_type": "code",
      "metadata": {
        "id": "47O79iyZrHFm",
        "colab_type": "code",
        "colab": {}
      },
      "source": [
        ""
      ],
      "execution_count": null,
      "outputs": []
    }
  ]
}